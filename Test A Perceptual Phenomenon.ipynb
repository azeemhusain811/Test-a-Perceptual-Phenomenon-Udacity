{
 "cells": [
  {
   "cell_type": "markdown",
   "metadata": {},
   "source": [
    "<h1>Background Analysis</h1><br>\n",
    "In a Stroop task, participants are presented with a list of words, with each word displayed in a color of ink. The participant’s task is to say out loud the color of the ink in which the word is printed. The task has two conditions: a congruent words condition, and an incongruent words condition. In the congruent words condition, the words being displayed are color words whose names match the colors in which they are printed: for example <font color=\"red\">RED</font>, <font color=\"blue\">BLUE</font>. In the incongruent words condition, the words displayed are color words whose names do not match the colors in which they are printed: for example <font color=\"orange\">PURPLE</font>, <font color=\"purple\">ORANGE</font>. In each case, we measure the time it takes to name the ink colors in equally-sized lists. Each participant will go through and record a time from each condition."
   ]
  },
  {
   "cell_type": "markdown",
   "metadata": {},
   "source": [
    "<h2>Analysis</h2><br>\n",
    "**Question:1** What is our independent variable? What is our dependent variable?\n",
    "\n",
    "**Answer:** Independent variables are those variables which aren't affect on anything that I do except dependent variables. We can choose independent variables by ourself. It isn't change by changing other variables. In an experiment, we usually choose that independent variables which will affect dependent variables to get or predict the values of dependent variables.\n",
    "\n",
    "The Dependent variables refer to the variable which will measure the affect on the Independent variables. In a simple language, we can say that the dependent variables are those variables which totally dependent on Independent variables but it doesn't mean that Dependent variable could cause a change in Independent variable.\n",
    "\n",
    "In this experiment, the response time a person takes to read the color name is Dependent Variable. Independent variable is whether a text is congruent to text-color or not. "
   ]
  },
  {
   "cell_type": "markdown",
   "metadata": {},
   "source": [
    "**Question:2** What is an appropriate set of hypotheses for this task? What kind of statistical test do you expect to perform? Justify your choices.\n",
    "\n",
    "**Answer:** In this experiment, we'll choose a two tailed <b>depedent</b> (paired) t-test. The reason of choosing a two tailed test is, there is no information in the question that we have to tell that a congruent test will improve response time or reduce the response time. The reason of choosing a t-test is, we don't know the whole population. We have a sample of size 24 only which is less than 30. A Stroop effect is a test only, so using t-test will be beneficial for us to compare the means of two groups for pre-test and post-test.\n",
    "\n",
    "Here are some *Assumptions*:-\n",
    "<li> The distribution differences of the congruent and incongruent variables are approximately Normal Distributed. Normal Distribution is a bell-shaped distribution in which Mean, Median and Mode are approximately same.<br>\n",
    "<li> The observations should be independent to each other.<br>\n",
    "<li> Their should not be any outliers in the distribution differences between two groups.\n",
    "<li> Confidence Level is 95% means &alpha; = 0.05\n",
    "    \n",
    "    \n",
    "<h3>Types of Hypothesis</h3>\n",
    "\n",
    "**Null Hypothesis:** Population Mean of Congruent (&mu;<sub>congruent</sub>) = Population Mean of Incongruent (&mu;<sub>incongruent</sub>) ($H_0:$ &mu;<sub>c</sub> = &mu;<sub>i</sub> )<br>\n",
    "A hypothesis in which there is no significant difference between the means of two groups. If two set of variables has approximately no significant difference, it means that retain or fail to reject the Null Hypothesis. Denoted by $H_0$.\n",
    "\n",
    "**Alternative Hypothesis:** Population Mean of Congruent (&mu;<sub>congruent</sub>) &ne; Population Mean of Incongruent (&mu;<sub>incongruent</sub>) ($H_a:$ &mu;<sub>c</sub> &ne; &mu;<sub>i</sub>)<br>\n",
    "A hypothesis in which there is a significant difference between the means of two groups. It means that the response time of the congruent sample is not equal or different to the response time of Incongruent sample. Denoted by $H_a$.\n",
    "\n",
    "Where  &mu;<sub>c</sub> = Mean response time for naming the congruent words<br>\n",
    "        &mu;<sub>i</sub> = Mean response time for naming the incongruent words\n",
    "        \n",
    "We can reject Null Hypothesis (Retain Alternative Hypothesis), if we get a significant difference between the mean of congruent words and incongruent words to the colors and vice-versa."
   ]
  },
  {
   "cell_type": "markdown",
   "metadata": {},
   "source": [
    "**Question:3** Report some descriptive statistics regarding this dataset. Include at least one measure of central tendency and at least one measure of variability?\n",
    "\n",
    "**Answer :**"
   ]
  },
  {
   "cell_type": "code",
   "execution_count": 192,
   "metadata": {},
   "outputs": [],
   "source": [
    "#Importing the Libraries\n",
    "import math\n",
    "import matplotlib.pyplot as plt\n",
    "import pandas as pd\n",
    "import numpy as np\n",
    "import seaborn as sns\n",
    "from scipy.stats import t"
   ]
  },
  {
   "cell_type": "code",
   "execution_count": 193,
   "metadata": {},
   "outputs": [
    {
     "data": {
      "text/html": [
       "<div>\n",
       "<style scoped>\n",
       "    .dataframe tbody tr th:only-of-type {\n",
       "        vertical-align: middle;\n",
       "    }\n",
       "\n",
       "    .dataframe tbody tr th {\n",
       "        vertical-align: top;\n",
       "    }\n",
       "\n",
       "    .dataframe thead th {\n",
       "        text-align: right;\n",
       "    }\n",
       "</style>\n",
       "<table border=\"1\" class=\"dataframe\">\n",
       "  <thead>\n",
       "    <tr style=\"text-align: right;\">\n",
       "      <th></th>\n",
       "      <th>Congruent</th>\n",
       "      <th>Incongruent</th>\n",
       "    </tr>\n",
       "  </thead>\n",
       "  <tbody>\n",
       "    <tr>\n",
       "      <th>0</th>\n",
       "      <td>12.079</td>\n",
       "      <td>19.278</td>\n",
       "    </tr>\n",
       "    <tr>\n",
       "      <th>1</th>\n",
       "      <td>16.791</td>\n",
       "      <td>18.741</td>\n",
       "    </tr>\n",
       "    <tr>\n",
       "      <th>2</th>\n",
       "      <td>9.564</td>\n",
       "      <td>21.214</td>\n",
       "    </tr>\n",
       "    <tr>\n",
       "      <th>3</th>\n",
       "      <td>8.630</td>\n",
       "      <td>15.687</td>\n",
       "    </tr>\n",
       "    <tr>\n",
       "      <th>4</th>\n",
       "      <td>14.669</td>\n",
       "      <td>22.803</td>\n",
       "    </tr>\n",
       "    <tr>\n",
       "      <th>5</th>\n",
       "      <td>12.238</td>\n",
       "      <td>20.878</td>\n",
       "    </tr>\n",
       "    <tr>\n",
       "      <th>6</th>\n",
       "      <td>14.692</td>\n",
       "      <td>24.572</td>\n",
       "    </tr>\n",
       "    <tr>\n",
       "      <th>7</th>\n",
       "      <td>8.987</td>\n",
       "      <td>17.394</td>\n",
       "    </tr>\n",
       "    <tr>\n",
       "      <th>8</th>\n",
       "      <td>9.401</td>\n",
       "      <td>20.762</td>\n",
       "    </tr>\n",
       "    <tr>\n",
       "      <th>9</th>\n",
       "      <td>14.480</td>\n",
       "      <td>26.282</td>\n",
       "    </tr>\n",
       "    <tr>\n",
       "      <th>10</th>\n",
       "      <td>22.328</td>\n",
       "      <td>24.524</td>\n",
       "    </tr>\n",
       "    <tr>\n",
       "      <th>11</th>\n",
       "      <td>15.298</td>\n",
       "      <td>18.644</td>\n",
       "    </tr>\n",
       "    <tr>\n",
       "      <th>12</th>\n",
       "      <td>15.073</td>\n",
       "      <td>17.510</td>\n",
       "    </tr>\n",
       "    <tr>\n",
       "      <th>13</th>\n",
       "      <td>16.929</td>\n",
       "      <td>20.330</td>\n",
       "    </tr>\n",
       "    <tr>\n",
       "      <th>14</th>\n",
       "      <td>18.200</td>\n",
       "      <td>35.255</td>\n",
       "    </tr>\n",
       "    <tr>\n",
       "      <th>15</th>\n",
       "      <td>12.130</td>\n",
       "      <td>22.158</td>\n",
       "    </tr>\n",
       "    <tr>\n",
       "      <th>16</th>\n",
       "      <td>18.495</td>\n",
       "      <td>25.139</td>\n",
       "    </tr>\n",
       "    <tr>\n",
       "      <th>17</th>\n",
       "      <td>10.639</td>\n",
       "      <td>20.429</td>\n",
       "    </tr>\n",
       "    <tr>\n",
       "      <th>18</th>\n",
       "      <td>11.344</td>\n",
       "      <td>17.425</td>\n",
       "    </tr>\n",
       "    <tr>\n",
       "      <th>19</th>\n",
       "      <td>12.369</td>\n",
       "      <td>34.288</td>\n",
       "    </tr>\n",
       "    <tr>\n",
       "      <th>20</th>\n",
       "      <td>12.944</td>\n",
       "      <td>23.894</td>\n",
       "    </tr>\n",
       "    <tr>\n",
       "      <th>21</th>\n",
       "      <td>14.233</td>\n",
       "      <td>17.960</td>\n",
       "    </tr>\n",
       "    <tr>\n",
       "      <th>22</th>\n",
       "      <td>19.710</td>\n",
       "      <td>22.058</td>\n",
       "    </tr>\n",
       "    <tr>\n",
       "      <th>23</th>\n",
       "      <td>16.004</td>\n",
       "      <td>21.157</td>\n",
       "    </tr>\n",
       "  </tbody>\n",
       "</table>\n",
       "</div>"
      ],
      "text/plain": [
       "    Congruent  Incongruent\n",
       "0      12.079       19.278\n",
       "1      16.791       18.741\n",
       "2       9.564       21.214\n",
       "3       8.630       15.687\n",
       "4      14.669       22.803\n",
       "5      12.238       20.878\n",
       "6      14.692       24.572\n",
       "7       8.987       17.394\n",
       "8       9.401       20.762\n",
       "9      14.480       26.282\n",
       "10     22.328       24.524\n",
       "11     15.298       18.644\n",
       "12     15.073       17.510\n",
       "13     16.929       20.330\n",
       "14     18.200       35.255\n",
       "15     12.130       22.158\n",
       "16     18.495       25.139\n",
       "17     10.639       20.429\n",
       "18     11.344       17.425\n",
       "19     12.369       34.288\n",
       "20     12.944       23.894\n",
       "21     14.233       17.960\n",
       "22     19.710       22.058\n",
       "23     16.004       21.157"
      ]
     },
     "execution_count": 193,
     "metadata": {},
     "output_type": "execute_result"
    }
   ],
   "source": [
    "#Magic Function, to set the backend as Inline\n",
    "%matplotlib inline\n",
    "\n",
    "#reading the file and printing the data\n",
    "data = pd.read_csv(\"stroopdata.csv\")\n",
    "data"
   ]
  },
  {
   "cell_type": "code",
   "execution_count": 194,
   "metadata": {},
   "outputs": [
    {
     "data": {
      "text/html": [
       "<div>\n",
       "<style scoped>\n",
       "    .dataframe tbody tr th:only-of-type {\n",
       "        vertical-align: middle;\n",
       "    }\n",
       "\n",
       "    .dataframe tbody tr th {\n",
       "        vertical-align: top;\n",
       "    }\n",
       "\n",
       "    .dataframe thead th {\n",
       "        text-align: right;\n",
       "    }\n",
       "</style>\n",
       "<table border=\"1\" class=\"dataframe\">\n",
       "  <thead>\n",
       "    <tr style=\"text-align: right;\">\n",
       "      <th></th>\n",
       "      <th>Congruent</th>\n",
       "      <th>Incongruent</th>\n",
       "    </tr>\n",
       "  </thead>\n",
       "  <tbody>\n",
       "    <tr>\n",
       "      <th>Sample Size</th>\n",
       "      <td>24.000000</td>\n",
       "      <td>24.000000</td>\n",
       "    </tr>\n",
       "    <tr>\n",
       "      <th>Median</th>\n",
       "      <td>14.356500</td>\n",
       "      <td>21.017500</td>\n",
       "    </tr>\n",
       "    <tr>\n",
       "      <th>Standard Deviation</th>\n",
       "      <td>3.559358</td>\n",
       "      <td>4.797057</td>\n",
       "    </tr>\n",
       "  </tbody>\n",
       "</table>\n",
       "</div>"
      ],
      "text/plain": [
       "                    Congruent  Incongruent\n",
       "Sample Size         24.000000    24.000000\n",
       "Median              14.356500    21.017500\n",
       "Standard Deviation   3.559358     4.797057"
      ]
     },
     "execution_count": 194,
     "metadata": {},
     "output_type": "execute_result"
    }
   ],
   "source": [
    "#Calculating Sample Size for both the columns\n",
    "con_size = len(data['Congruent'])\n",
    "incon_size = len(data[\"Incongruent\"])\n",
    "\n",
    "#Calculating Median \n",
    "con_median = data['Congruent'].median()\n",
    "incon_median = data['Incongruent'].median()\n",
    "\n",
    "#Calculating Standard Deviations\n",
    "con_std = data['Congruent'].std()\n",
    "incon_std = data['Incongruent'].std()\n",
    "\n",
    "#Assigning the data using dataframe and priting it in a tabular form\n",
    "data_dict = {'Congruent':[con_size,con_median,con_std],'Incongruent':[incon_size,incon_median,incon_std]}\n",
    "df = pd.DataFrame(data=data_dict,index=[\"Sample Size\",\"Median\",\"Standard Deviation\"])\n",
    "df"
   ]
  },
  {
   "cell_type": "code",
   "execution_count": 195,
   "metadata": {},
   "outputs": [
    {
     "data": {
      "text/html": [
       "<div>\n",
       "<style scoped>\n",
       "    .dataframe tbody tr th:only-of-type {\n",
       "        vertical-align: middle;\n",
       "    }\n",
       "\n",
       "    .dataframe tbody tr th {\n",
       "        vertical-align: top;\n",
       "    }\n",
       "\n",
       "    .dataframe thead th {\n",
       "        text-align: right;\n",
       "    }\n",
       "</style>\n",
       "<table border=\"1\" class=\"dataframe\">\n",
       "  <thead>\n",
       "    <tr style=\"text-align: right;\">\n",
       "      <th></th>\n",
       "      <th>Congruent</th>\n",
       "      <th>Incongruent</th>\n",
       "    </tr>\n",
       "  </thead>\n",
       "  <tbody>\n",
       "    <tr>\n",
       "      <th>count</th>\n",
       "      <td>24.000000</td>\n",
       "      <td>24.000000</td>\n",
       "    </tr>\n",
       "    <tr>\n",
       "      <th>mean</th>\n",
       "      <td>14.051125</td>\n",
       "      <td>22.015917</td>\n",
       "    </tr>\n",
       "    <tr>\n",
       "      <th>std</th>\n",
       "      <td>3.559358</td>\n",
       "      <td>4.797057</td>\n",
       "    </tr>\n",
       "    <tr>\n",
       "      <th>min</th>\n",
       "      <td>8.630000</td>\n",
       "      <td>15.687000</td>\n",
       "    </tr>\n",
       "    <tr>\n",
       "      <th>25%</th>\n",
       "      <td>11.895250</td>\n",
       "      <td>18.716750</td>\n",
       "    </tr>\n",
       "    <tr>\n",
       "      <th>50%</th>\n",
       "      <td>14.356500</td>\n",
       "      <td>21.017500</td>\n",
       "    </tr>\n",
       "    <tr>\n",
       "      <th>75%</th>\n",
       "      <td>16.200750</td>\n",
       "      <td>24.051500</td>\n",
       "    </tr>\n",
       "    <tr>\n",
       "      <th>max</th>\n",
       "      <td>22.328000</td>\n",
       "      <td>35.255000</td>\n",
       "    </tr>\n",
       "  </tbody>\n",
       "</table>\n",
       "</div>"
      ],
      "text/plain": [
       "       Congruent  Incongruent\n",
       "count  24.000000    24.000000\n",
       "mean   14.051125    22.015917\n",
       "std     3.559358     4.797057\n",
       "min     8.630000    15.687000\n",
       "25%    11.895250    18.716750\n",
       "50%    14.356500    21.017500\n",
       "75%    16.200750    24.051500\n",
       "max    22.328000    35.255000"
      ]
     },
     "execution_count": 195,
     "metadata": {},
     "output_type": "execute_result"
    }
   ],
   "source": [
    "#Printing all the details\n",
    "data.describe()"
   ]
  },
  {
   "cell_type": "markdown",
   "metadata": {},
   "source": [
    "**Question: 4** Provide one or two visualizations that show the distribution of the sample data. Write one or two sentences noting what you observe about the plot or plots?\n",
    "\n",
    "**Answer:**"
   ]
  },
  {
   "cell_type": "code",
   "execution_count": 197,
   "metadata": {},
   "outputs": [
    {
     "data": {
      "text/plain": [
       "Text(0.5,1,'Difference of Congruent and Incongruent')"
      ]
     },
     "execution_count": 197,
     "metadata": {},
     "output_type": "execute_result"
    },
    {
     "data": {
      "image/png": "[encoded data removed]",
      "text/plain": [
       "<matplotlib.figure.Figure at 0x28b8af0c780>"
      ]
     },
     "metadata": {},
     "output_type": "display_data"
    }
   ],
   "source": [
    "#Plotting the graph using BoxPlot\n",
    "sns.set_style('whitegrid')\n",
    "sns.boxplot(data=data[['Congruent','Incongruent']],orient=\"v\",width=0.6,palette=\"colorblind\",fliersize=5)\n",
    "plt.ylabel('Time')\n",
    "plt.title('Difference of Congruent and Incongruent')"
   ]
  },
  {
   "cell_type": "markdown",
   "metadata": {},
   "source": [
    "**Outcome of BoxPlot :**\n",
    "\n",
    "<li>The BoxPlot clearly shows the difference between the medians. The median is approximately 14.5 for Congruent and 21 for Incongruent datasets.\n",
    "<li> We can see the minimum=8.6 and maximum=22 values for Congruent AND minimum=15.6 and maximum=35 values for Incongruent.\n",
    "<li> We can also observe the range between 25% to 75% for both the datasets.\n"
   ]
  },
  {
   "cell_type": "code",
   "execution_count": 198,
   "metadata": {},
   "outputs": [
    {
     "data": {
      "text/plain": [
       "<matplotlib.legend.Legend at 0x28b8b03b908>"
      ]
     },
     "execution_count": 198,
     "metadata": {},
     "output_type": "execute_result"
    },
    {
     "data": {
      "image/png": "[encoded data removed]",
      "text/plain": [
       "<matplotlib.figure.Figure at 0x28b8af8db00>"
      ]
     },
     "metadata": {},
     "output_type": "display_data"
    }
   ],
   "source": [
    "#Graph for Congruent Dataset\n",
    "sns.distplot(data['Congruent'],rug='true',label=\"Congruent\")\n",
    "plt.title('Response Time for Congruent Data')\n",
    "plt.ylabel('Density Value')\n",
    "plt.legend()"
   ]
  },
  {
   "cell_type": "code",
   "execution_count": 199,
   "metadata": {},
   "outputs": [
    {
     "data": {
      "text/plain": [
       "<matplotlib.legend.Legend at 0x28b8b13f630>"
      ]
     },
     "execution_count": 199,
     "metadata": {},
     "output_type": "execute_result"
    },
    {
     "data": {
      "image/png": "[encoded data removed]",
      "text/plain": [
       "<matplotlib.figure.Figure at 0x28b8b020668>"
      ]
     },
     "metadata": {},
     "output_type": "display_data"
    }
   ],
   "source": [
    "#Graph for Incongruent Dataset\n",
    "sns.distplot(data['Incongruent'],rug='true',label=\"Incongruent\",color=\"#F9744A\")\n",
    "plt.title('Response Time for Incongruent Data')\n",
    "plt.ylabel('Density Value')\n",
    "plt.legend()"
   ]
  },
  {
   "cell_type": "code",
   "execution_count": 200,
   "metadata": {},
   "outputs": [
    {
     "data": {
      "text/plain": [
       "<matplotlib.legend.Legend at 0x28b8b1fd2e8>"
      ]
     },
     "execution_count": 200,
     "metadata": {},
     "output_type": "execute_result"
    },
    {
     "data": {
      "image/png": "[encoded data removed]",
      "text/plain": [
       "<matplotlib.figure.Figure at 0x28b8b0ca080>"
      ]
     },
     "metadata": {},
     "output_type": "display_data"
    }
   ],
   "source": [
    "#Graph for both the datasets\n",
    "sns.distplot(data['Congruent'],rug='true',label=\"Congruent\")\n",
    "sns.distplot(data['Incongruent'],rug='true',label=\"Incongruent\")\n",
    "plt.title('Response Time for both the datasets')\n",
    "plt.ylabel('Density Value')\n",
    "plt.legend()"
   ]
  },
  {
   "cell_type": "markdown",
   "metadata": {},
   "source": [
    "**Both Graphs are Normally Distributed and we can see the difference of their means also**"
   ]
  },
  {
   "cell_type": "code",
   "execution_count": 201,
   "metadata": {},
   "outputs": [
    {
     "data": {
      "text/plain": [
       "<matplotlib.legend.Legend at 0x28b8b0b0d30>"
      ]
     },
     "execution_count": 201,
     "metadata": {},
     "output_type": "execute_result"
    },
    {
     "data": {
      "image/png": "[encoded data removed]",
      "text/plain": [
       "<matplotlib.figure.Figure at 0x28b8b18f4a8>"
      ]
     },
     "metadata": {},
     "output_type": "display_data"
    }
   ],
   "source": [
    "#Graph for Difference of the datasets (Incongruent - Congruent)\n",
    "sns.distplot(data['Incongruent']-data['Congruent'],rug='true',label=\"Difference\",color='#E038E8')\n",
    "plt.title('Difference Response Time (Incongruent - Congruent)')\n",
    "plt.xlabel('(Incongruent - Congruent)')\n",
    "plt.ylabel('Density Value')\n",
    "plt.legend()"
   ]
  },
  {
   "cell_type": "markdown",
   "metadata": {},
   "source": [
    "**Question:5** Now, perform the statistical test and report your results. What is your confidence level and your critical statistic value? Do you reject the null hypothesis or fail to reject it? Come to a conclusion in terms of the experiment task. Did the results match up with your expectations?\n",
    "\n",
    "**Answer:**"
   ]
  },
  {
   "cell_type": "code",
   "execution_count": 202,
   "metadata": {},
   "outputs": [
    {
     "name": "stdout",
     "output_type": "stream",
     "text": [
      "t-critical value :  2.069\n"
     ]
    }
   ],
   "source": [
    "#Finding t-critical value for two-tailed test of 95% Confidence Level and DF = 23\n",
    "t_critical = round(t.ppf(0.975,23),3)\n",
    "print('t-critical value : ',t_critical)"
   ]
  },
  {
   "cell_type": "code",
   "execution_count": 203,
   "metadata": {},
   "outputs": [
    {
     "data": {
      "text/html": [
       "<div>\n",
       "<style scoped>\n",
       "    .dataframe tbody tr th:only-of-type {\n",
       "        vertical-align: middle;\n",
       "    }\n",
       "\n",
       "    .dataframe tbody tr th {\n",
       "        vertical-align: top;\n",
       "    }\n",
       "\n",
       "    .dataframe thead th {\n",
       "        text-align: right;\n",
       "    }\n",
       "</style>\n",
       "<table border=\"1\" class=\"dataframe\">\n",
       "  <thead>\n",
       "    <tr style=\"text-align: right;\">\n",
       "      <th></th>\n",
       "      <th>Congruent</th>\n",
       "      <th>Incongruent</th>\n",
       "      <th>Difference</th>\n",
       "    </tr>\n",
       "  </thead>\n",
       "  <tbody>\n",
       "    <tr>\n",
       "      <th>0</th>\n",
       "      <td>12.079</td>\n",
       "      <td>19.278</td>\n",
       "      <td>7.199</td>\n",
       "    </tr>\n",
       "    <tr>\n",
       "      <th>1</th>\n",
       "      <td>16.791</td>\n",
       "      <td>18.741</td>\n",
       "      <td>1.950</td>\n",
       "    </tr>\n",
       "    <tr>\n",
       "      <th>2</th>\n",
       "      <td>9.564</td>\n",
       "      <td>21.214</td>\n",
       "      <td>11.650</td>\n",
       "    </tr>\n",
       "    <tr>\n",
       "      <th>3</th>\n",
       "      <td>8.630</td>\n",
       "      <td>15.687</td>\n",
       "      <td>7.057</td>\n",
       "    </tr>\n",
       "    <tr>\n",
       "      <th>4</th>\n",
       "      <td>14.669</td>\n",
       "      <td>22.803</td>\n",
       "      <td>8.134</td>\n",
       "    </tr>\n",
       "    <tr>\n",
       "      <th>5</th>\n",
       "      <td>12.238</td>\n",
       "      <td>20.878</td>\n",
       "      <td>8.640</td>\n",
       "    </tr>\n",
       "    <tr>\n",
       "      <th>6</th>\n",
       "      <td>14.692</td>\n",
       "      <td>24.572</td>\n",
       "      <td>9.880</td>\n",
       "    </tr>\n",
       "    <tr>\n",
       "      <th>7</th>\n",
       "      <td>8.987</td>\n",
       "      <td>17.394</td>\n",
       "      <td>8.407</td>\n",
       "    </tr>\n",
       "    <tr>\n",
       "      <th>8</th>\n",
       "      <td>9.401</td>\n",
       "      <td>20.762</td>\n",
       "      <td>11.361</td>\n",
       "    </tr>\n",
       "    <tr>\n",
       "      <th>9</th>\n",
       "      <td>14.480</td>\n",
       "      <td>26.282</td>\n",
       "      <td>11.802</td>\n",
       "    </tr>\n",
       "    <tr>\n",
       "      <th>10</th>\n",
       "      <td>22.328</td>\n",
       "      <td>24.524</td>\n",
       "      <td>2.196</td>\n",
       "    </tr>\n",
       "    <tr>\n",
       "      <th>11</th>\n",
       "      <td>15.298</td>\n",
       "      <td>18.644</td>\n",
       "      <td>3.346</td>\n",
       "    </tr>\n",
       "    <tr>\n",
       "      <th>12</th>\n",
       "      <td>15.073</td>\n",
       "      <td>17.510</td>\n",
       "      <td>2.437</td>\n",
       "    </tr>\n",
       "    <tr>\n",
       "      <th>13</th>\n",
       "      <td>16.929</td>\n",
       "      <td>20.330</td>\n",
       "      <td>3.401</td>\n",
       "    </tr>\n",
       "    <tr>\n",
       "      <th>14</th>\n",
       "      <td>18.200</td>\n",
       "      <td>35.255</td>\n",
       "      <td>17.055</td>\n",
       "    </tr>\n",
       "    <tr>\n",
       "      <th>15</th>\n",
       "      <td>12.130</td>\n",
       "      <td>22.158</td>\n",
       "      <td>10.028</td>\n",
       "    </tr>\n",
       "    <tr>\n",
       "      <th>16</th>\n",
       "      <td>18.495</td>\n",
       "      <td>25.139</td>\n",
       "      <td>6.644</td>\n",
       "    </tr>\n",
       "    <tr>\n",
       "      <th>17</th>\n",
       "      <td>10.639</td>\n",
       "      <td>20.429</td>\n",
       "      <td>9.790</td>\n",
       "    </tr>\n",
       "    <tr>\n",
       "      <th>18</th>\n",
       "      <td>11.344</td>\n",
       "      <td>17.425</td>\n",
       "      <td>6.081</td>\n",
       "    </tr>\n",
       "    <tr>\n",
       "      <th>19</th>\n",
       "      <td>12.369</td>\n",
       "      <td>34.288</td>\n",
       "      <td>21.919</td>\n",
       "    </tr>\n",
       "    <tr>\n",
       "      <th>20</th>\n",
       "      <td>12.944</td>\n",
       "      <td>23.894</td>\n",
       "      <td>10.950</td>\n",
       "    </tr>\n",
       "    <tr>\n",
       "      <th>21</th>\n",
       "      <td>14.233</td>\n",
       "      <td>17.960</td>\n",
       "      <td>3.727</td>\n",
       "    </tr>\n",
       "    <tr>\n",
       "      <th>22</th>\n",
       "      <td>19.710</td>\n",
       "      <td>22.058</td>\n",
       "      <td>2.348</td>\n",
       "    </tr>\n",
       "    <tr>\n",
       "      <th>23</th>\n",
       "      <td>16.004</td>\n",
       "      <td>21.157</td>\n",
       "      <td>5.153</td>\n",
       "    </tr>\n",
       "  </tbody>\n",
       "</table>\n",
       "</div>"
      ],
      "text/plain": [
       "    Congruent  Incongruent  Difference\n",
       "0      12.079       19.278       7.199\n",
       "1      16.791       18.741       1.950\n",
       "2       9.564       21.214      11.650\n",
       "3       8.630       15.687       7.057\n",
       "4      14.669       22.803       8.134\n",
       "5      12.238       20.878       8.640\n",
       "6      14.692       24.572       9.880\n",
       "7       8.987       17.394       8.407\n",
       "8       9.401       20.762      11.361\n",
       "9      14.480       26.282      11.802\n",
       "10     22.328       24.524       2.196\n",
       "11     15.298       18.644       3.346\n",
       "12     15.073       17.510       2.437\n",
       "13     16.929       20.330       3.401\n",
       "14     18.200       35.255      17.055\n",
       "15     12.130       22.158      10.028\n",
       "16     18.495       25.139       6.644\n",
       "17     10.639       20.429       9.790\n",
       "18     11.344       17.425       6.081\n",
       "19     12.369       34.288      21.919\n",
       "20     12.944       23.894      10.950\n",
       "21     14.233       17.960       3.727\n",
       "22     19.710       22.058       2.348\n",
       "23     16.004       21.157       5.153"
      ]
     },
     "execution_count": 203,
     "metadata": {},
     "output_type": "execute_result"
    }
   ],
   "source": [
    "#Difference of Incongruent and Congruent\n",
    "data['Difference'] = data['Incongruent'] - data['Congruent']\n",
    "data"
   ]
  },
  {
   "cell_type": "code",
   "execution_count": 204,
   "metadata": {},
   "outputs": [
    {
     "name": "stdout",
     "output_type": "stream",
     "text": [
      "Mean of Difference :  7.965\n",
      "Standard Deviation of Difference :  4.865\n",
      "Sample Error :  0.993\n",
      "Confidence Interval (CI) : ( 5.91, 10.019 )\n",
      "t-statistic value :  8.021\n"
     ]
    }
   ],
   "source": [
    "# Mean of Difference\n",
    "diff_mean = data['Difference'].mean()\n",
    "print('Mean of Difference : ',round(diff_mean,3))\n",
    "\n",
    "#Standard Deviation of Difference\n",
    "diff_std = data['Difference'].std()\n",
    "print('Standard Deviation of Difference : ',round(diff_std,3))\n",
    "\n",
    "# Sampling Error\n",
    "SE = round(diff_std/math.sqrt(24),3)\n",
    "print('Sample Error : ',SE)\n",
    "\n",
    "# Confidence Interval\n",
    "CI_lower = round(diff_mean-(t_critical*SE),3)\n",
    "CI_upper = round(diff_mean+(t_critical*SE),3)\n",
    "print('Confidence Interval (CI) : ( '+str(CI_lower)+', '+str(CI_upper)+' )')\n",
    "\n",
    "# t-statistic value\n",
    "t_stats = round(diff_mean/SE,3)\n",
    "print('t-statistic value : ',t_stats)"
   ]
  },
  {
   "cell_type": "markdown",
   "metadata": {},
   "source": [
    "**Values:-**\n",
    "\n",
    "<li> Confidence Level : 95%\n",
    "<li> Sample Size : 24\n",
    "<li> Degree of Freedom : 23\n",
    "<li> t-critical value : &#8723; 2.069\n",
    "<li> Mean : 7.965\n",
    "<li> Standard Deviation : 4.865\n",
    "<li> Sample Error : 0.993\n",
    "<li> Confidence Interval : (5.91, 10.019)\n",
    "<li> t-statistic value : 8.021"
   ]
  },
  {
   "cell_type": "markdown",
   "metadata": {},
   "source": [
    "**Results:-**\n",
    "\n",
    "<li> We find that the t-statistic value is 8.021 for the difference of Incongruent response time and Congruent response time which far greater that the critical values (&#8723;2.069) so that we can say that the t-statistic value is in the critical region.\n",
    "<li> Since the t-statistic value is in the critical region, So we <b>Reject the Null Hypothesis</b> because there is a significant difference in Incongruent and Congruent's response time. It means that the response time taken to read the text with same color is less than the time taken to read the text with Incongruent color.\n",
    "<li> With the help of Confidence Interval, we can say that the mean differrence of the whole population should be within 5.91 to 10.019"
   ]
  },
  {
   "cell_type": "markdown",
   "metadata": {},
   "source": [
    "**Question:6** What do you think is responsible for the effects observed? Can you think of an alternative or similar task that would result in a similar effect? Some research about the problem will be helpful for thinking about these two questions?"
   ]
  },
  {
   "cell_type": "markdown",
   "metadata": {},
   "source": [
    "**Answer:** The studies have shown that the human brain is trained from a very young age to recognize words. The more often brain sees the certain words, the faster the person able to read it. The words themselves have a strong influence over your ability to say the color. We encounter words on such a persistent basis that the reading occur almost effortlessly whereas declaration of a color requires more effort. When there is a conflict between these two sources of information, our cognitive load is increased, and our brains have to work harder to resolve the required difference that's why it takes more time to say the color name written with different color name.\n",
    "\n",
    "The alternative task that would result in a similar effect is:-<br>\n",
    "We can color only half of the word with same color name for first level and again color half of the word with different color name in second level and calculate the response time to read the color name."
   ]
  },
  {
   "cell_type": "code",
   "execution_count": null,
   "metadata": {},
   "outputs": [],
   "source": []
  }
 ],
 "metadata": {
  "kernelspec": {
   "display_name": "Python 3",
   "language": "python",
   "name": "python3"
  },
  "language_info": {
   "codemirror_mode": {
    "name": "ipython",
    "version": 3
   },
   "file_extension": ".py",
   "mimetype": "text/x-python",
   "name": "python",
   "nbconvert_exporter": "python",
   "pygments_lexer": "ipython3",
   "version": "3.6.4"
  }
 },
 "nbformat": 4,
 "nbformat_minor": 2
}
